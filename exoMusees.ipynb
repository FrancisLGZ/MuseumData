{
 "cells": [
  {
   "cell_type": "markdown",
   "id": "690d760f",
   "metadata": {},
   "source": [
    "# PREMIERE ETAPE : OUVRIR LE FICHIER CSV"
   ]
  },
  {
   "cell_type": "markdown",
   "id": "eaac29da",
   "metadata": {},
   "source": [
    "### On utilise pandas pour importer le fichier"
   ]
  },
  {
   "cell_type": "code",
   "execution_count": 36,
   "id": "dc18774f",
   "metadata": {},
   "outputs": [],
   "source": [
    "import pandas as pd"
   ]
  },
  {
   "cell_type": "markdown",
   "id": "0b1aeb21",
   "metadata": {},
   "source": [
    "### On peut aussi importer numPy"
   ]
  },
  {
   "cell_type": "code",
   "execution_count": 54,
   "id": "bd595742",
   "metadata": {},
   "outputs": [],
   "source": [
    "import numpy as np"
   ]
  },
  {
   "cell_type": "markdown",
   "id": "a8c3b3ea",
   "metadata": {},
   "source": [
    "### Import du fichier .csv"
   ]
  },
  {
   "cell_type": "code",
   "execution_count": 38,
   "id": "390450b8",
   "metadata": {},
   "outputs": [],
   "source": [
    "data = pd.read_csv(\"liste-des-musees-de-france-2021.csv\", sep=\";\")"
   ]
  },
  {
   "cell_type": "markdown",
   "id": "cc119ed4",
   "metadata": {},
   "source": [
    "### Check du top et bottom"
   ]
  },
  {
   "cell_type": "code",
   "execution_count": 39,
   "id": "7fafe978",
   "metadata": {
    "scrolled": false
   },
   "outputs": [
    {
     "data": {
      "text/html": [
       "<div>\n",
       "<style scoped>\n",
       "    .dataframe tbody tr th:only-of-type {\n",
       "        vertical-align: middle;\n",
       "    }\n",
       "\n",
       "    .dataframe tbody tr th {\n",
       "        vertical-align: top;\n",
       "    }\n",
       "\n",
       "    .dataframe thead th {\n",
       "        text-align: right;\n",
       "    }\n",
       "</style>\n",
       "<table border=\"1\" class=\"dataframe\">\n",
       "  <thead>\n",
       "    <tr style=\"text-align: right;\">\n",
       "      <th></th>\n",
       "      <th>osm_id</th>\n",
       "      <th>name</th>\n",
       "      <th>number</th>\n",
       "      <th>street</th>\n",
       "      <th>postal_code</th>\n",
       "      <th>city</th>\n",
       "      <th>country</th>\n",
       "      <th>country_code</th>\n",
       "      <th>lat</th>\n",
       "      <th>lon</th>\n",
       "      <th>website</th>\n",
       "      <th>email</th>\n",
       "      <th>phone</th>\n",
       "      <th>fax</th>\n",
       "      <th>tags</th>\n",
       "      <th>description</th>\n",
       "      <th>date_added</th>\n",
       "      <th>wikidata</th>\n",
       "    </tr>\n",
       "  </thead>\n",
       "  <tbody>\n",
       "    <tr>\n",
       "      <th>0</th>\n",
       "      <td>4540234591</td>\n",
       "      <td>3 bis f</td>\n",
       "      <td>109</td>\n",
       "      <td>Avenue du Petit Barth�l�my</td>\n",
       "      <td>13617.0</td>\n",
       "      <td>Aix-en-Provence</td>\n",
       "      <td>France</td>\n",
       "      <td>fr</td>\n",
       "      <td>43.521207</td>\n",
       "      <td>5.439875</td>\n",
       "      <td>http://www.3bisf.com</td>\n",
       "      <td>contact@3bisf.com</td>\n",
       "      <td>3.344216e+10</td>\n",
       "      <td>NaN</td>\n",
       "      <td>osm:museum;art:art contemporain</td>\n",
       "      <td>NaN</td>\n",
       "      <td>44116,0076388889</td>\n",
       "      <td>NaN</td>\n",
       "    </tr>\n",
       "    <tr>\n",
       "      <th>1</th>\n",
       "      <td>4388745689</td>\n",
       "      <td>A casa di Losari</td>\n",
       "      <td>NaN</td>\n",
       "      <td>T 30</td>\n",
       "      <td>20226.0</td>\n",
       "      <td>Belgod�re</td>\n",
       "      <td>France</td>\n",
       "      <td>fr</td>\n",
       "      <td>42.638732</td>\n",
       "      <td>9.007660</td>\n",
       "      <td>NaN</td>\n",
       "      <td>NaN</td>\n",
       "      <td>NaN</td>\n",
       "      <td>NaN</td>\n",
       "      <td>osm:museum</td>\n",
       "      <td>NaN</td>\n",
       "      <td>43338,9393981481</td>\n",
       "      <td>NaN</td>\n",
       "    </tr>\n",
       "    <tr>\n",
       "      <th>2</th>\n",
       "      <td>4426176194</td>\n",
       "      <td>� l'homme volant</td>\n",
       "      <td>35</td>\n",
       "      <td>Grande Rue</td>\n",
       "      <td>72300.0</td>\n",
       "      <td>Sabl�-sur-Sarthe</td>\n",
       "      <td>France</td>\n",
       "      <td>fr</td>\n",
       "      <td>47.839656</td>\n",
       "      <td>-0.334043</td>\n",
       "      <td>NaN</td>\n",
       "      <td>NaN</td>\n",
       "      <td>3.324395e+10</td>\n",
       "      <td>NaN</td>\n",
       "      <td>osm:museum;type:centre d'interpretation</td>\n",
       "      <td>NaN</td>\n",
       "      <td>42644,4636574074</td>\n",
       "      <td>NaN</td>\n",
       "    </tr>\n",
       "    <tr>\n",
       "      <th>3</th>\n",
       "      <td>7652598615</td>\n",
       "      <td>Abbadiale - Maison des arts</td>\n",
       "      <td>NaN</td>\n",
       "      <td>Rue du Gabizos</td>\n",
       "      <td>65400.0</td>\n",
       "      <td>Arras-en-Lavedan</td>\n",
       "      <td>France</td>\n",
       "      <td>fr</td>\n",
       "      <td>42.990826</td>\n",
       "      <td>-0.128057</td>\n",
       "      <td>https://www.abbadiale.fr/</td>\n",
       "      <td>NaN</td>\n",
       "      <td>3.363317e+10</td>\n",
       "      <td>NaN</td>\n",
       "      <td>osm:museum</td>\n",
       "      <td>NaN</td>\n",
       "      <td>44120,0466782407</td>\n",
       "      <td>NaN</td>\n",
       "    </tr>\n",
       "    <tr>\n",
       "      <th>4</th>\n",
       "      <td>121580330</td>\n",
       "      <td>Abbaye</td>\n",
       "      <td>NaN</td>\n",
       "      <td>Rue de l'Abbaye</td>\n",
       "      <td>39210.0</td>\n",
       "      <td>Ch�teau-Chalon</td>\n",
       "      <td>France</td>\n",
       "      <td>fr</td>\n",
       "      <td>46.753866</td>\n",
       "      <td>5.624296</td>\n",
       "      <td>NaN</td>\n",
       "      <td>NaN</td>\n",
       "      <td>NaN</td>\n",
       "      <td>NaN</td>\n",
       "      <td>osm:museum;art:architecture</td>\n",
       "      <td>NaN</td>\n",
       "      <td>43102,5491898148</td>\n",
       "      <td>NaN</td>\n",
       "    </tr>\n",
       "    <tr>\n",
       "      <th>5</th>\n",
       "      <td>427080450</td>\n",
       "      <td>Abbaye cistercienne de Fontenay</td>\n",
       "      <td>NaN</td>\n",
       "      <td>D 32C</td>\n",
       "      <td>21500.0</td>\n",
       "      <td>Marmagne</td>\n",
       "      <td>France</td>\n",
       "      <td>fr</td>\n",
       "      <td>47.639979</td>\n",
       "      <td>4.390199</td>\n",
       "      <td>http://www.abbayedefontenay.com</td>\n",
       "      <td>info@abbayedefontenay.com</td>\n",
       "      <td>3.338092e+10</td>\n",
       "      <td>NaN</td>\n",
       "      <td>osm:museum;art:architecture</td>\n",
       "      <td>NaN</td>\n",
       "      <td>44135,4274074074</td>\n",
       "      <td>Q464918</td>\n",
       "    </tr>\n",
       "    <tr>\n",
       "      <th>6</th>\n",
       "      <td>250016053</td>\n",
       "      <td>Abbaye d'Arthous</td>\n",
       "      <td>NaN</td>\n",
       "      <td>Route de l'Abbaye</td>\n",
       "      <td>40300.0</td>\n",
       "      <td>Hastingues</td>\n",
       "      <td>France</td>\n",
       "      <td>fr</td>\n",
       "      <td>43.527247</td>\n",
       "      <td>-1.122068</td>\n",
       "      <td>http://arthous.landes.fr/</td>\n",
       "      <td>NaN</td>\n",
       "      <td>3.355873e+10</td>\n",
       "      <td>NaN</td>\n",
       "      <td>osm:museum;art:architecture</td>\n",
       "      <td>NaN</td>\n",
       "      <td>44018,8086689815</td>\n",
       "      <td>Q2820503</td>\n",
       "    </tr>\n",
       "    <tr>\n",
       "      <th>7</th>\n",
       "      <td>625801255</td>\n",
       "      <td>Abbaye de Charlieu</td>\n",
       "      <td>NaN</td>\n",
       "      <td>All�e Sunderland</td>\n",
       "      <td>42190.0</td>\n",
       "      <td>Charlieu</td>\n",
       "      <td>France</td>\n",
       "      <td>fr</td>\n",
       "      <td>46.157709</td>\n",
       "      <td>4.168722</td>\n",
       "      <td>NaN</td>\n",
       "      <td>NaN</td>\n",
       "      <td>NaN</td>\n",
       "      <td>NaN</td>\n",
       "      <td>osm:museum;art:architecture</td>\n",
       "      <td>NaN</td>\n",
       "      <td>43523,7329976852</td>\n",
       "      <td>NaN</td>\n",
       "    </tr>\n",
       "    <tr>\n",
       "      <th>8</th>\n",
       "      <td>436075969</td>\n",
       "      <td>Abbaye de Clairvaux (ancienne)</td>\n",
       "      <td>NaN</td>\n",
       "      <td>Rue de l'Abbaye</td>\n",
       "      <td>10310.0</td>\n",
       "      <td>Clairvaux</td>\n",
       "      <td>France</td>\n",
       "      <td>fr</td>\n",
       "      <td>48.146652</td>\n",
       "      <td>4.788012</td>\n",
       "      <td>https://www.abbayedeclairvaux.com/</td>\n",
       "      <td>NaN</td>\n",
       "      <td>NaN</td>\n",
       "      <td>NaN</td>\n",
       "      <td>osm:museum;art:architecture</td>\n",
       "      <td>NaN</td>\n",
       "      <td>43529,2823148148</td>\n",
       "      <td>Q22915382</td>\n",
       "    </tr>\n",
       "    <tr>\n",
       "      <th>9</th>\n",
       "      <td>3024227704</td>\n",
       "      <td>Abbaye de Cluny</td>\n",
       "      <td>NaN</td>\n",
       "      <td>Place du 11 Ao�t 1944</td>\n",
       "      <td>71250.0</td>\n",
       "      <td>Cluny</td>\n",
       "      <td>France</td>\n",
       "      <td>fr</td>\n",
       "      <td>46.434715</td>\n",
       "      <td>4.658529</td>\n",
       "      <td>http://www.cluny.fr/71/CLUNY/TOURISME/tourisme...</td>\n",
       "      <td>NaN</td>\n",
       "      <td>3.338559e+10</td>\n",
       "      <td>NaN</td>\n",
       "      <td>osm:museum;art:architecture</td>\n",
       "      <td>NaN</td>\n",
       "      <td>44013,637662037</td>\n",
       "      <td>NaN</td>\n",
       "    </tr>\n",
       "  </tbody>\n",
       "</table>\n",
       "</div>"
      ],
      "text/plain": [
       "       osm_id                             name number  \\\n",
       "0  4540234591                          3 bis f    109   \n",
       "1  4388745689                 A casa di Losari    NaN   \n",
       "2  4426176194                 � l'homme volant     35   \n",
       "3  7652598615      Abbadiale - Maison des arts    NaN   \n",
       "4   121580330                           Abbaye    NaN   \n",
       "5   427080450  Abbaye cistercienne de Fontenay    NaN   \n",
       "6   250016053                 Abbaye d'Arthous    NaN   \n",
       "7   625801255               Abbaye de Charlieu    NaN   \n",
       "8   436075969   Abbaye de Clairvaux (ancienne)    NaN   \n",
       "9  3024227704                  Abbaye de Cluny    NaN   \n",
       "\n",
       "                       street  postal_code              city country  \\\n",
       "0  Avenue du Petit Barth�l�my      13617.0   Aix-en-Provence  France   \n",
       "1                        T 30      20226.0         Belgod�re  France   \n",
       "2                  Grande Rue      72300.0  Sabl�-sur-Sarthe  France   \n",
       "3              Rue du Gabizos      65400.0  Arras-en-Lavedan  France   \n",
       "4             Rue de l'Abbaye      39210.0    Ch�teau-Chalon  France   \n",
       "5                       D 32C      21500.0          Marmagne  France   \n",
       "6           Route de l'Abbaye      40300.0        Hastingues  France   \n",
       "7            All�e Sunderland      42190.0          Charlieu  France   \n",
       "8             Rue de l'Abbaye      10310.0         Clairvaux  France   \n",
       "9       Place du 11 Ao�t 1944      71250.0             Cluny  France   \n",
       "\n",
       "  country_code        lat       lon  \\\n",
       "0           fr  43.521207  5.439875   \n",
       "1           fr  42.638732  9.007660   \n",
       "2           fr  47.839656 -0.334043   \n",
       "3           fr  42.990826 -0.128057   \n",
       "4           fr  46.753866  5.624296   \n",
       "5           fr  47.639979  4.390199   \n",
       "6           fr  43.527247 -1.122068   \n",
       "7           fr  46.157709  4.168722   \n",
       "8           fr  48.146652  4.788012   \n",
       "9           fr  46.434715  4.658529   \n",
       "\n",
       "                                             website  \\\n",
       "0                               http://www.3bisf.com   \n",
       "1                                                NaN   \n",
       "2                                                NaN   \n",
       "3                          https://www.abbadiale.fr/   \n",
       "4                                                NaN   \n",
       "5                    http://www.abbayedefontenay.com   \n",
       "6                          http://arthous.landes.fr/   \n",
       "7                                                NaN   \n",
       "8                 https://www.abbayedeclairvaux.com/   \n",
       "9  http://www.cluny.fr/71/CLUNY/TOURISME/tourisme...   \n",
       "\n",
       "                       email         phone  fax  \\\n",
       "0          contact@3bisf.com  3.344216e+10  NaN   \n",
       "1                        NaN           NaN  NaN   \n",
       "2                        NaN  3.324395e+10  NaN   \n",
       "3                        NaN  3.363317e+10  NaN   \n",
       "4                        NaN           NaN  NaN   \n",
       "5  info@abbayedefontenay.com  3.338092e+10  NaN   \n",
       "6                        NaN  3.355873e+10  NaN   \n",
       "7                        NaN           NaN  NaN   \n",
       "8                        NaN           NaN  NaN   \n",
       "9                        NaN  3.338559e+10  NaN   \n",
       "\n",
       "                                      tags description        date_added  \\\n",
       "0          osm:museum;art:art contemporain         NaN  44116,0076388889   \n",
       "1                               osm:museum         NaN  43338,9393981481   \n",
       "2  osm:museum;type:centre d'interpretation         NaN  42644,4636574074   \n",
       "3                               osm:museum         NaN  44120,0466782407   \n",
       "4              osm:museum;art:architecture         NaN  43102,5491898148   \n",
       "5              osm:museum;art:architecture         NaN  44135,4274074074   \n",
       "6              osm:museum;art:architecture         NaN  44018,8086689815   \n",
       "7              osm:museum;art:architecture         NaN  43523,7329976852   \n",
       "8              osm:museum;art:architecture         NaN  43529,2823148148   \n",
       "9              osm:museum;art:architecture         NaN   44013,637662037   \n",
       "\n",
       "    wikidata  \n",
       "0        NaN  \n",
       "1        NaN  \n",
       "2        NaN  \n",
       "3        NaN  \n",
       "4        NaN  \n",
       "5    Q464918  \n",
       "6   Q2820503  \n",
       "7        NaN  \n",
       "8  Q22915382  \n",
       "9        NaN  "
      ]
     },
     "execution_count": 39,
     "metadata": {},
     "output_type": "execute_result"
    }
   ],
   "source": [
    "data.head(10)"
   ]
  },
  {
   "cell_type": "code",
   "execution_count": 42,
   "id": "a89bf2e7",
   "metadata": {},
   "outputs": [
    {
     "data": {
      "text/html": [
       "<div>\n",
       "<style scoped>\n",
       "    .dataframe tbody tr th:only-of-type {\n",
       "        vertical-align: middle;\n",
       "    }\n",
       "\n",
       "    .dataframe tbody tr th {\n",
       "        vertical-align: top;\n",
       "    }\n",
       "\n",
       "    .dataframe thead th {\n",
       "        text-align: right;\n",
       "    }\n",
       "</style>\n",
       "<table border=\"1\" class=\"dataframe\">\n",
       "  <thead>\n",
       "    <tr style=\"text-align: right;\">\n",
       "      <th></th>\n",
       "      <th>osm_id</th>\n",
       "      <th>name</th>\n",
       "      <th>number</th>\n",
       "      <th>street</th>\n",
       "      <th>postal_code</th>\n",
       "      <th>city</th>\n",
       "      <th>country</th>\n",
       "      <th>country_code</th>\n",
       "      <th>lat</th>\n",
       "      <th>lon</th>\n",
       "      <th>website</th>\n",
       "      <th>email</th>\n",
       "      <th>phone</th>\n",
       "      <th>fax</th>\n",
       "      <th>tags</th>\n",
       "      <th>description</th>\n",
       "      <th>date_added</th>\n",
       "      <th>wikidata</th>\n",
       "    </tr>\n",
       "  </thead>\n",
       "  <tbody>\n",
       "    <tr>\n",
       "      <th>3774</th>\n",
       "      <td>67332571</td>\n",
       "      <td>Villa-Mus�e Jean-Honor� Fragonard</td>\n",
       "      <td>NaN</td>\n",
       "      <td>Impasse Fragonard</td>\n",
       "      <td>6130.0</td>\n",
       "      <td>Grasse</td>\n",
       "      <td>France</td>\n",
       "      <td>fr</td>\n",
       "      <td>43.656643</td>\n",
       "      <td>6.921149</td>\n",
       "      <td>https://www.museesdegrasse.com/</td>\n",
       "      <td>NaN</td>\n",
       "      <td>3.349706e+10</td>\n",
       "      <td>NaN</td>\n",
       "      <td>osm:museum;gender:musee d'homme</td>\n",
       "      <td>NaN</td>\n",
       "      <td>44176,7012615741</td>\n",
       "      <td>Q22916181</td>\n",
       "    </tr>\n",
       "    <tr>\n",
       "      <th>3775</th>\n",
       "      <td>5945447856</td>\n",
       "      <td>Villascopia</td>\n",
       "      <td>22</td>\n",
       "      <td>Rue de Lamarque</td>\n",
       "      <td>47240.0</td>\n",
       "      <td>Castelculier</td>\n",
       "      <td>France</td>\n",
       "      <td>fr</td>\n",
       "      <td>44.175269</td>\n",
       "      <td>0.697793</td>\n",
       "      <td>NaN</td>\n",
       "      <td>NaN</td>\n",
       "      <td>NaN</td>\n",
       "      <td>NaN</td>\n",
       "      <td>osm:museum</td>\n",
       "      <td>NaN</td>\n",
       "      <td>43374,9961342593</td>\n",
       "      <td>NaN</td>\n",
       "    </tr>\n",
       "    <tr>\n",
       "      <th>3776</th>\n",
       "      <td>5396606655</td>\n",
       "      <td>Vinopanorama</td>\n",
       "      <td>NaN</td>\n",
       "      <td>Route de la Cave</td>\n",
       "      <td>30420.0</td>\n",
       "      <td>Calvisson</td>\n",
       "      <td>France</td>\n",
       "      <td>fr</td>\n",
       "      <td>43.781922</td>\n",
       "      <td>4.196846</td>\n",
       "      <td>NaN</td>\n",
       "      <td>NaN</td>\n",
       "      <td>NaN</td>\n",
       "      <td>NaN</td>\n",
       "      <td>osm:museum</td>\n",
       "      <td>NaN</td>\n",
       "      <td>44166,6013773148</td>\n",
       "      <td>NaN</td>\n",
       "    </tr>\n",
       "    <tr>\n",
       "      <th>3777</th>\n",
       "      <td>71319429</td>\n",
       "      <td>Visiatome</td>\n",
       "      <td>NaN</td>\n",
       "      <td>D 765</td>\n",
       "      <td>30200.0</td>\n",
       "      <td>Chusclan</td>\n",
       "      <td>France</td>\n",
       "      <td>fr</td>\n",
       "      <td>44.140412</td>\n",
       "      <td>4.693682</td>\n",
       "      <td>NaN</td>\n",
       "      <td>NaN</td>\n",
       "      <td>NaN</td>\n",
       "      <td>NaN</td>\n",
       "      <td>osm:museum</td>\n",
       "      <td>NaN</td>\n",
       "      <td>44018,3632291667</td>\n",
       "      <td>Q3561013</td>\n",
       "    </tr>\n",
       "    <tr>\n",
       "      <th>3778</th>\n",
       "      <td>5830591853</td>\n",
       "      <td>Visite d'un r�seau de train miniature HO</td>\n",
       "      <td>17</td>\n",
       "      <td>Rue du Professeur Jean Faurel</td>\n",
       "      <td>24160.0</td>\n",
       "      <td>Excideuil</td>\n",
       "      <td>France</td>\n",
       "      <td>fr</td>\n",
       "      <td>45.339207</td>\n",
       "      <td>1.044233</td>\n",
       "      <td>http://andregay1247.perso.neuf.fr</td>\n",
       "      <td>NaN</td>\n",
       "      <td>NaN</td>\n",
       "      <td>NaN</td>\n",
       "      <td>osm:museum</td>\n",
       "      <td>NaN</td>\n",
       "      <td>43325,9349189815</td>\n",
       "      <td>NaN</td>\n",
       "    </tr>\n",
       "    <tr>\n",
       "      <th>3779</th>\n",
       "      <td>1348524503</td>\n",
       "      <td>Vivarium du Moulin</td>\n",
       "      <td>NaN</td>\n",
       "      <td>Rue Principale</td>\n",
       "      <td>68610.0</td>\n",
       "      <td>Thann-Guebwiller</td>\n",
       "      <td>France</td>\n",
       "      <td>fr</td>\n",
       "      <td>47.942258</td>\n",
       "      <td>7.149613</td>\n",
       "      <td>NaN</td>\n",
       "      <td>NaN</td>\n",
       "      <td>NaN</td>\n",
       "      <td>NaN</td>\n",
       "      <td>osm:museum</td>\n",
       "      <td>NaN</td>\n",
       "      <td>40747,8717476852</td>\n",
       "      <td>NaN</td>\n",
       "    </tr>\n",
       "    <tr>\n",
       "      <th>3780</th>\n",
       "      <td>577287841</td>\n",
       "      <td>Voyage au Temps des impressionnistes</td>\n",
       "      <td>NaN</td>\n",
       "      <td>Rue de L�ry</td>\n",
       "      <td>95430.0</td>\n",
       "      <td>Auvers-sur-Oise</td>\n",
       "      <td>France</td>\n",
       "      <td>fr</td>\n",
       "      <td>49.072057</td>\n",
       "      <td>2.166167</td>\n",
       "      <td>NaN</td>\n",
       "      <td>NaN</td>\n",
       "      <td>NaN</td>\n",
       "      <td>NaN</td>\n",
       "      <td>osm:museum</td>\n",
       "      <td>NaN</td>\n",
       "      <td>41141,7272222222</td>\n",
       "      <td>NaN</td>\n",
       "    </tr>\n",
       "    <tr>\n",
       "      <th>3781</th>\n",
       "      <td>145062184</td>\n",
       "      <td>Wines and Spirits Museum</td>\n",
       "      <td>NaN</td>\n",
       "      <td>Corniche Bonaparte</td>\n",
       "      <td>83150.0</td>\n",
       "      <td>Bandol</td>\n",
       "      <td>France</td>\n",
       "      <td>fr</td>\n",
       "      <td>43.128031</td>\n",
       "      <td>5.749484</td>\n",
       "      <td>NaN</td>\n",
       "      <td>NaN</td>\n",
       "      <td>NaN</td>\n",
       "      <td>NaN</td>\n",
       "      <td>osm:museum</td>\n",
       "      <td>NaN</td>\n",
       "      <td>42367,7135069444</td>\n",
       "      <td>NaN</td>\n",
       "    </tr>\n",
       "    <tr>\n",
       "      <th>3782</th>\n",
       "      <td>82988725</td>\n",
       "      <td>Xanxotea</td>\n",
       "      <td>NaN</td>\n",
       "      <td>La Place</td>\n",
       "      <td>64240.0</td>\n",
       "      <td>Isturits</td>\n",
       "      <td>France</td>\n",
       "      <td>fr</td>\n",
       "      <td>43.364834</td>\n",
       "      <td>-1.203580</td>\n",
       "      <td>http://www.xanxotea.com/</td>\n",
       "      <td>NaN</td>\n",
       "      <td>NaN</td>\n",
       "      <td>NaN</td>\n",
       "      <td>osm:museum</td>\n",
       "      <td>Mus�e ethnographique Xanxotea pour d�couvrir l...</td>\n",
       "      <td>44129,580775463</td>\n",
       "      <td>NaN</td>\n",
       "    </tr>\n",
       "    <tr>\n",
       "      <th>3783</th>\n",
       "      <td>277107550</td>\n",
       "      <td>Xylotheque - Kiosque Pedagogique</td>\n",
       "      <td>NaN</td>\n",
       "      <td>Impasse de la Haie Vive</td>\n",
       "      <td>45590.0</td>\n",
       "      <td>Saint-Cyr-en-Val</td>\n",
       "      <td>France</td>\n",
       "      <td>fr</td>\n",
       "      <td>47.825888</td>\n",
       "      <td>1.967795</td>\n",
       "      <td>NaN</td>\n",
       "      <td>NaN</td>\n",
       "      <td>NaN</td>\n",
       "      <td>NaN</td>\n",
       "      <td>osm:museum</td>\n",
       "      <td>NaN</td>\n",
       "      <td>43331,4758449074</td>\n",
       "      <td>NaN</td>\n",
       "    </tr>\n",
       "  </tbody>\n",
       "</table>\n",
       "</div>"
      ],
      "text/plain": [
       "          osm_id                                      name number  \\\n",
       "3774    67332571         Villa-Mus�e Jean-Honor� Fragonard    NaN   \n",
       "3775  5945447856                               Villascopia     22   \n",
       "3776  5396606655                              Vinopanorama    NaN   \n",
       "3777    71319429                                 Visiatome    NaN   \n",
       "3778  5830591853  Visite d'un r�seau de train miniature HO     17   \n",
       "3779  1348524503                        Vivarium du Moulin    NaN   \n",
       "3780   577287841      Voyage au Temps des impressionnistes    NaN   \n",
       "3781   145062184                  Wines and Spirits Museum    NaN   \n",
       "3782    82988725                                  Xanxotea    NaN   \n",
       "3783   277107550          Xylotheque - Kiosque Pedagogique    NaN   \n",
       "\n",
       "                             street  postal_code              city country  \\\n",
       "3774              Impasse Fragonard       6130.0            Grasse  France   \n",
       "3775                Rue de Lamarque      47240.0      Castelculier  France   \n",
       "3776               Route de la Cave      30420.0         Calvisson  France   \n",
       "3777                          D 765      30200.0          Chusclan  France   \n",
       "3778  Rue du Professeur Jean Faurel      24160.0         Excideuil  France   \n",
       "3779                 Rue Principale      68610.0  Thann-Guebwiller  France   \n",
       "3780                    Rue de L�ry      95430.0   Auvers-sur-Oise  France   \n",
       "3781             Corniche Bonaparte      83150.0            Bandol  France   \n",
       "3782                       La Place      64240.0          Isturits  France   \n",
       "3783        Impasse de la Haie Vive      45590.0  Saint-Cyr-en-Val  France   \n",
       "\n",
       "     country_code        lat       lon                            website  \\\n",
       "3774           fr  43.656643  6.921149    https://www.museesdegrasse.com/   \n",
       "3775           fr  44.175269  0.697793                                NaN   \n",
       "3776           fr  43.781922  4.196846                                NaN   \n",
       "3777           fr  44.140412  4.693682                                NaN   \n",
       "3778           fr  45.339207  1.044233  http://andregay1247.perso.neuf.fr   \n",
       "3779           fr  47.942258  7.149613                                NaN   \n",
       "3780           fr  49.072057  2.166167                                NaN   \n",
       "3781           fr  43.128031  5.749484                                NaN   \n",
       "3782           fr  43.364834 -1.203580           http://www.xanxotea.com/   \n",
       "3783           fr  47.825888  1.967795                                NaN   \n",
       "\n",
       "     email         phone  fax                             tags  \\\n",
       "3774   NaN  3.349706e+10  NaN  osm:museum;gender:musee d'homme   \n",
       "3775   NaN           NaN  NaN                       osm:museum   \n",
       "3776   NaN           NaN  NaN                       osm:museum   \n",
       "3777   NaN           NaN  NaN                       osm:museum   \n",
       "3778   NaN           NaN  NaN                       osm:museum   \n",
       "3779   NaN           NaN  NaN                       osm:museum   \n",
       "3780   NaN           NaN  NaN                       osm:museum   \n",
       "3781   NaN           NaN  NaN                       osm:museum   \n",
       "3782   NaN           NaN  NaN                       osm:museum   \n",
       "3783   NaN           NaN  NaN                       osm:museum   \n",
       "\n",
       "                                            description        date_added  \\\n",
       "3774                                                NaN  44176,7012615741   \n",
       "3775                                                NaN  43374,9961342593   \n",
       "3776                                                NaN  44166,6013773148   \n",
       "3777                                                NaN  44018,3632291667   \n",
       "3778                                                NaN  43325,9349189815   \n",
       "3779                                                NaN  40747,8717476852   \n",
       "3780                                                NaN  41141,7272222222   \n",
       "3781                                                NaN  42367,7135069444   \n",
       "3782  Mus�e ethnographique Xanxotea pour d�couvrir l...   44129,580775463   \n",
       "3783                                                NaN  43331,4758449074   \n",
       "\n",
       "       wikidata  \n",
       "3774  Q22916181  \n",
       "3775        NaN  \n",
       "3776        NaN  \n",
       "3777   Q3561013  \n",
       "3778        NaN  \n",
       "3779        NaN  \n",
       "3780        NaN  \n",
       "3781        NaN  \n",
       "3782        NaN  \n",
       "3783        NaN  "
      ]
     },
     "execution_count": 42,
     "metadata": {},
     "output_type": "execute_result"
    }
   ],
   "source": [
    "data.tail(10)"
   ]
  },
  {
   "cell_type": "markdown",
   "id": "0d29da5f",
   "metadata": {},
   "source": [
    "# DEUXIEME ETAPE : QUESTIONS"
   ]
  },
  {
   "cell_type": "markdown",
   "id": "3057719f",
   "metadata": {},
   "source": [
    "## 1- Combien y-a-t-il de musées en France métropolitaine ?"
   ]
  },
  {
   "cell_type": "markdown",
   "id": "cec84251",
   "metadata": {},
   "source": [
    "### Formule .count"
   ]
  },
  {
   "cell_type": "code",
   "execution_count": 41,
   "id": "14ca463a",
   "metadata": {},
   "outputs": [
    {
     "data": {
      "text/plain": [
       "osm_id          3784\n",
       "name            3784\n",
       "number           743\n",
       "street          3771\n",
       "postal_code     3728\n",
       "city            3782\n",
       "country         3784\n",
       "country_code    3784\n",
       "lat             3784\n",
       "lon             3784\n",
       "website         1636\n",
       "email            301\n",
       "phone           1211\n",
       "fax                0\n",
       "tags            3782\n",
       "description      226\n",
       "date_added      3775\n",
       "wikidata        1147\n",
       "dtype: int64"
      ]
     },
     "execution_count": 41,
     "metadata": {},
     "output_type": "execute_result"
    }
   ],
   "source": [
    "data.count()"
   ]
  },
  {
   "cell_type": "markdown",
   "id": "1b76d66f",
   "metadata": {},
   "source": [
    "#### On peut deja voir qu'il y a 3784 donnees. Nous pouvons essayer d'etre plus precis"
   ]
  },
  {
   "cell_type": "markdown",
   "id": "e60b0012",
   "metadata": {},
   "source": [
    "### Formule len()"
   ]
  },
  {
   "cell_type": "code",
   "execution_count": 52,
   "id": "2a759408",
   "metadata": {},
   "outputs": [
    {
     "name": "stdout",
     "output_type": "stream",
     "text": [
      "Il y a 3784 en France metropolitaine.\n"
     ]
    }
   ],
   "source": [
    "totalMuseum = len(data.index)\n",
    "print(\"Il y a\", totalMuseum , \"en France metropolitaine.\")"
   ]
  },
  {
   "cell_type": "markdown",
   "id": "d36811e6",
   "metadata": {},
   "source": [
    "## 2- Dans quelle(s) ville(s) y-a-t-il de plus de musées ? "
   ]
  },
  {
   "cell_type": "markdown",
   "id": "7ecbff3d",
   "metadata": {},
   "source": [
    "#### Idee :  1- faire un croise dynamique qui compote le nombre de musees par ville"
   ]
  },
  {
   "cell_type": "markdown",
   "id": "3db1b841",
   "metadata": {},
   "source": [
    "#### Idee 2 : prendre le max ou trier par nombre et prendre la premiere ligne"
   ]
  },
  {
   "cell_type": "code",
   "execution_count": 67,
   "id": "1a66cce5",
   "metadata": {},
   "outputs": [],
   "source": [
    "cityMuseum = data.pivot_table(index='city', values='name', aggfunc=\"count\")"
   ]
  },
  {
   "cell_type": "code",
   "execution_count": 68,
   "id": "22475976",
   "metadata": {},
   "outputs": [
    {
     "data": {
      "text/html": [
       "<div>\n",
       "<style scoped>\n",
       "    .dataframe tbody tr th:only-of-type {\n",
       "        vertical-align: middle;\n",
       "    }\n",
       "\n",
       "    .dataframe tbody tr th {\n",
       "        vertical-align: top;\n",
       "    }\n",
       "\n",
       "    .dataframe thead th {\n",
       "        text-align: right;\n",
       "    }\n",
       "</style>\n",
       "<table border=\"1\" class=\"dataframe\">\n",
       "  <thead>\n",
       "    <tr style=\"text-align: right;\">\n",
       "      <th></th>\n",
       "      <th>name</th>\n",
       "    </tr>\n",
       "    <tr>\n",
       "      <th>city</th>\n",
       "      <th></th>\n",
       "    </tr>\n",
       "  </thead>\n",
       "  <tbody>\n",
       "    <tr>\n",
       "      <th>Abbeville</th>\n",
       "      <td>1</td>\n",
       "    </tr>\n",
       "    <tr>\n",
       "      <th>Abilly</th>\n",
       "      <td>1</td>\n",
       "    </tr>\n",
       "    <tr>\n",
       "      <th>Ablain-Saint-Nazaire</th>\n",
       "      <td>2</td>\n",
       "    </tr>\n",
       "    <tr>\n",
       "      <th>Abondance</th>\n",
       "      <td>1</td>\n",
       "    </tr>\n",
       "    <tr>\n",
       "      <th>Agde</th>\n",
       "      <td>2</td>\n",
       "    </tr>\n",
       "    <tr>\n",
       "      <th>Agen</th>\n",
       "      <td>4</td>\n",
       "    </tr>\n",
       "    <tr>\n",
       "      <th>Aigremont</th>\n",
       "      <td>1</td>\n",
       "    </tr>\n",
       "    <tr>\n",
       "      <th>Aigues-Mortes</th>\n",
       "      <td>1</td>\n",
       "    </tr>\n",
       "    <tr>\n",
       "      <th>Aiguillon</th>\n",
       "      <td>1</td>\n",
       "    </tr>\n",
       "    <tr>\n",
       "      <th>Ainhoa</th>\n",
       "      <td>1</td>\n",
       "    </tr>\n",
       "  </tbody>\n",
       "</table>\n",
       "</div>"
      ],
      "text/plain": [
       "                      name\n",
       "city                      \n",
       "Abbeville                1\n",
       "Abilly                   1\n",
       "Ablain-Saint-Nazaire     2\n",
       "Abondance                1\n",
       "Agde                     2\n",
       "Agen                     4\n",
       "Aigremont                1\n",
       "Aigues-Mortes            1\n",
       "Aiguillon                1\n",
       "Ainhoa                   1"
      ]
     },
     "execution_count": 68,
     "metadata": {},
     "output_type": "execute_result"
    }
   ],
   "source": [
    "cityMuseum.head(10)"
   ]
  },
  {
   "cell_type": "markdown",
   "id": "de7ad0c6",
   "metadata": {},
   "source": [
    "#### Recherche du max (pb : afficher la ville associee)"
   ]
  },
  {
   "cell_type": "code",
   "execution_count": 73,
   "id": "d5fab2eb",
   "metadata": {},
   "outputs": [
    {
     "name": "stdout",
     "output_type": "stream",
     "text": [
      "Le plus grand nombre de musees dans une ville est de 175\n"
     ]
    }
   ],
   "source": [
    "nameColumn = cityMuseum[\"name\"]\n",
    "nameMax = nameColumn.max()\n",
    "\n",
    "print(\"Le plus grand nombre de musees dans une ville est de\",nameMax,)"
   ]
  },
  {
   "cell_type": "markdown",
   "id": "3d5c2e7b",
   "metadata": {},
   "source": [
    "#### Trier pour trouver le max"
   ]
  },
  {
   "cell_type": "code",
   "execution_count": 75,
   "id": "c3caf4b2",
   "metadata": {},
   "outputs": [
    {
     "data": {
      "text/html": [
       "<div>\n",
       "<style scoped>\n",
       "    .dataframe tbody tr th:only-of-type {\n",
       "        vertical-align: middle;\n",
       "    }\n",
       "\n",
       "    .dataframe tbody tr th {\n",
       "        vertical-align: top;\n",
       "    }\n",
       "\n",
       "    .dataframe thead th {\n",
       "        text-align: right;\n",
       "    }\n",
       "</style>\n",
       "<table border=\"1\" class=\"dataframe\">\n",
       "  <thead>\n",
       "    <tr style=\"text-align: right;\">\n",
       "      <th></th>\n",
       "      <th>name</th>\n",
       "    </tr>\n",
       "    <tr>\n",
       "      <th>city</th>\n",
       "      <th></th>\n",
       "    </tr>\n",
       "  </thead>\n",
       "  <tbody>\n",
       "    <tr>\n",
       "      <th>Paris</th>\n",
       "      <td>175</td>\n",
       "    </tr>\n",
       "    <tr>\n",
       "      <th>Lyon</th>\n",
       "      <td>33</td>\n",
       "    </tr>\n",
       "    <tr>\n",
       "      <th>Marseille</th>\n",
       "      <td>28</td>\n",
       "    </tr>\n",
       "    <tr>\n",
       "      <th>Grenoble</th>\n",
       "      <td>22</td>\n",
       "    </tr>\n",
       "    <tr>\n",
       "      <th>Toulouse</th>\n",
       "      <td>20</td>\n",
       "    </tr>\n",
       "    <tr>\n",
       "      <th>Bordeaux</th>\n",
       "      <td>20</td>\n",
       "    </tr>\n",
       "    <tr>\n",
       "      <th>Strasbourg</th>\n",
       "      <td>16</td>\n",
       "    </tr>\n",
       "    <tr>\n",
       "      <th>Nice</th>\n",
       "      <td>16</td>\n",
       "    </tr>\n",
       "    <tr>\n",
       "      <th>Rouen</th>\n",
       "      <td>15</td>\n",
       "    </tr>\n",
       "    <tr>\n",
       "      <th>Lille</th>\n",
       "      <td>15</td>\n",
       "    </tr>\n",
       "  </tbody>\n",
       "</table>\n",
       "</div>"
      ],
      "text/plain": [
       "            name\n",
       "city            \n",
       "Paris        175\n",
       "Lyon          33\n",
       "Marseille     28\n",
       "Grenoble      22\n",
       "Toulouse      20\n",
       "Bordeaux      20\n",
       "Strasbourg    16\n",
       "Nice          16\n",
       "Rouen         15\n",
       "Lille         15"
      ]
     },
     "execution_count": 75,
     "metadata": {},
     "output_type": "execute_result"
    }
   ],
   "source": [
    "nameSorted = cityMuseum.sort_values([\"name\", \"city\"], ascending=False)\n",
    "\n",
    "nameSorted.head(10)"
   ]
  },
  {
   "cell_type": "code",
   "execution_count": 95,
   "id": "b7d36e2a",
   "metadata": {},
   "outputs": [
    {
     "name": "stdout",
     "output_type": "stream",
     "text": [
      "Paris 175\n"
     ]
    }
   ],
   "source": [
    "cityNameMax = nameSorted.index[0]\n",
    "cityMax = nameSorted.iloc[0, 0]\n",
    "\n",
    "print(cityNameMax, cityMax)"
   ]
  },
  {
   "cell_type": "code",
   "execution_count": 96,
   "id": "054f7efa",
   "metadata": {},
   "outputs": [
    {
     "name": "stdout",
     "output_type": "stream",
     "text": [
      "La ville qui compte le plus de musees est Paris avec 175 unites.\n"
     ]
    }
   ],
   "source": [
    "print(\"La ville qui compte le plus de musees est\", cityNameMax, \"avec\", cityMax, \"unites.\")"
   ]
  },
  {
   "cell_type": "markdown",
   "id": "8a850c74",
   "metadata": {},
   "source": [
    "## 3- Quel est le nombre moyen de musées par ville ?"
   ]
  },
  {
   "cell_type": "code",
   "execution_count": 103,
   "id": "6aee1ec8",
   "metadata": {},
   "outputs": [],
   "source": [
    "cityMean = nameSorted[\"name\"].mean()\n",
    "cityMeanRounded = np.round(cityMean, decimals = 2)"
   ]
  },
  {
   "cell_type": "code",
   "execution_count": 106,
   "id": "966007f1",
   "metadata": {},
   "outputs": [
    {
     "name": "stdout",
     "output_type": "stream",
     "text": [
      "Il y a en moyenne 1.65 musee par ville.\n"
     ]
    }
   ],
   "source": [
    "print(\"Il y a en moyenne\" ,cityMeanRounded, \"musee par ville.\")"
   ]
  },
  {
   "cell_type": "markdown",
   "id": "625c92c4",
   "metadata": {},
   "source": [
    "## 4- Quel est le nombre médian de musées par ville ?"
   ]
  },
  {
   "cell_type": "code",
   "execution_count": 119,
   "id": "443a7e4f",
   "metadata": {},
   "outputs": [],
   "source": [
    "cityMedian = nameSorted[\"name\"].median()"
   ]
  },
  {
   "cell_type": "code",
   "execution_count": 121,
   "id": "5f7639ff",
   "metadata": {},
   "outputs": [
    {
     "name": "stdout",
     "output_type": "stream",
     "text": [
      "Le nombre median de musees par ville est de 1.0 .\n"
     ]
    }
   ],
   "source": [
    "print(\"Le nombre median de musees par ville est de\" ,cityMedian,\".\")"
   ]
  },
  {
   "cell_type": "markdown",
   "id": "2d4e7e8d",
   "metadata": {},
   "source": [
    "## 5- Comment sont répartis les musées par type (en pourcentage) ?"
   ]
  },
  {
   "cell_type": "code",
   "execution_count": null,
   "id": "f319bbe7",
   "metadata": {},
   "outputs": [],
   "source": []
  },
  {
   "cell_type": "code",
   "execution_count": null,
   "id": "9dfdf232",
   "metadata": {},
   "outputs": [],
   "source": []
  },
  {
   "cell_type": "markdown",
   "id": "f97fb047",
   "metadata": {},
   "source": [
    "## 6- Combien y-a-t-il de musées dont le nom commence par \"Château\" ?"
   ]
  },
  {
   "cell_type": "code",
   "execution_count": 128,
   "id": "ac400d27",
   "metadata": {},
   "outputs": [
    {
     "data": {
      "text/plain": [
       "3465"
      ]
     },
     "execution_count": 128,
     "metadata": {},
     "output_type": "execute_result"
    }
   ],
   "source": [
    "cityMuseumName = data.pivot_table(index='name')\n",
    "len(cityMuseumName)"
   ]
  },
  {
   "cell_type": "code",
   "execution_count": null,
   "id": "beaba116",
   "metadata": {},
   "outputs": [],
   "source": []
  },
  {
   "cell_type": "markdown",
   "id": "db9ebd76",
   "metadata": {},
   "source": [
    "## 7- Pour combien de musées dispose-t-on de l'adresse du site web ?"
   ]
  },
  {
   "cell_type": "code",
   "execution_count": null,
   "id": "f0ed199e",
   "metadata": {},
   "outputs": [],
   "source": []
  },
  {
   "cell_type": "code",
   "execution_count": null,
   "id": "edecd00a",
   "metadata": {},
   "outputs": [],
   "source": []
  },
  {
   "cell_type": "markdown",
   "id": "cdf24e99",
   "metadata": {},
   "source": [
    "## 8- Quel département français possède le plus de musées sur son territoire ?"
   ]
  },
  {
   "cell_type": "code",
   "execution_count": null,
   "id": "6d66ba92",
   "metadata": {},
   "outputs": [],
   "source": []
  },
  {
   "cell_type": "code",
   "execution_count": null,
   "id": "9cc301ea",
   "metadata": {},
   "outputs": [],
   "source": []
  },
  {
   "cell_type": "markdown",
   "id": "f46ba1a6",
   "metadata": {},
   "source": [
    "## 9- Quel département français possède le moins de musées sur son territoire ?"
   ]
  },
  {
   "cell_type": "code",
   "execution_count": null,
   "id": "1f5e65cd",
   "metadata": {},
   "outputs": [],
   "source": []
  },
  {
   "cell_type": "code",
   "execution_count": null,
   "id": "49cbe21c",
   "metadata": {},
   "outputs": [],
   "source": []
  },
  {
   "cell_type": "markdown",
   "id": "28057c36",
   "metadata": {},
   "source": [
    "## 10- Combien de musées ont \"Napoléon\" dans leur nom ?"
   ]
  },
  {
   "cell_type": "code",
   "execution_count": null,
   "id": "7106157f",
   "metadata": {},
   "outputs": [],
   "source": []
  },
  {
   "cell_type": "code",
   "execution_count": null,
   "id": "0c2f49ef",
   "metadata": {},
   "outputs": [],
   "source": []
  },
  {
   "cell_type": "markdown",
   "id": "269a1fd5",
   "metadata": {},
   "source": [
    "# 3- Proposer deux axes d'analyse supplémentaires"
   ]
  },
  {
   "cell_type": "code",
   "execution_count": null,
   "id": "48cb0669",
   "metadata": {},
   "outputs": [],
   "source": []
  },
  {
   "cell_type": "code",
   "execution_count": null,
   "id": "2c47a5ff",
   "metadata": {},
   "outputs": [],
   "source": []
  },
  {
   "cell_type": "code",
   "execution_count": null,
   "id": "ae3647af",
   "metadata": {},
   "outputs": [],
   "source": []
  },
  {
   "cell_type": "code",
   "execution_count": null,
   "id": "457ecfc6",
   "metadata": {},
   "outputs": [],
   "source": []
  },
  {
   "cell_type": "code",
   "execution_count": null,
   "id": "0d2cf74f",
   "metadata": {},
   "outputs": [],
   "source": []
  },
  {
   "cell_type": "code",
   "execution_count": null,
   "id": "98d9c7a8",
   "metadata": {},
   "outputs": [],
   "source": []
  }
 ],
 "metadata": {
  "kernelspec": {
   "display_name": "Python 3",
   "language": "python",
   "name": "python3"
  },
  "language_info": {
   "codemirror_mode": {
    "name": "ipython",
    "version": 3
   },
   "file_extension": ".py",
   "mimetype": "text/x-python",
   "name": "python",
   "nbconvert_exporter": "python",
   "pygments_lexer": "ipython3",
   "version": "3.7.6"
  }
 },
 "nbformat": 4,
 "nbformat_minor": 5
}
